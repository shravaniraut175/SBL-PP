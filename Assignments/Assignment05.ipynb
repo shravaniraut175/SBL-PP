{
  "cells": [
    {
      "cell_type": "markdown",
      "metadata": {},
      "source": [
        "**Name - Shravani Sandeep Raut**\n",
        "\n",
        "SE - 48"
      ]
    },
    {
      "cell_type": "markdown",
      "metadata": {},
      "source": [
        "Q. Add the Lock to the given mechanism and make necessary modifications with respective desired\n",
        "output.\n"
      ]
    },
    {
      "cell_type": "code",
      "execution_count": 3,
      "metadata": {},
      "outputs": [
        {
          "name": "stdout",
          "output_type": "stream",
          "text": [
            "Number at the beginning : [0.0, 100.0, 200.0]\n",
            "Value in the end : [0.0, 100.0, 200.0]\n"
          ]
        }
      ],
      "source": [
        "from multiprocessing import Process, Array, Lock\n",
        "from time import sleep\n",
        "\n",
        "def addThousands(inputNumber, lock):\n",
        "    for _ in range(1000):\n",
        "        sleep(0.01)\n",
        "        with lock:\n",
        "            for i in range(len(inputNumber)):\n",
        "                inputNumber[i] += 1\n",
        "\n",
        "if __name__ == '__main__':\n",
        "    sharedArray = Array('d', [0.0, 100.0, 200.0])\n",
        "    lock = Lock()\n",
        "\n",
        "    print(f'Number at the beginning : {sharedArray[:]}')\n",
        "\n",
        "    firstProcess = Process(target=addThousands, args=(sharedArray, lock))\n",
        "    secondProcess = Process(target=addThousands, args=(sharedArray, lock))\n",
        "\n",
        "    firstProcess.start()\n",
        "    secondProcess.start()\n",
        "\n",
        "    firstProcess.join()\n",
        "    secondProcess.join()\n",
        "\n",
        "    print(f'Value in the end : {sharedArray[:]}')\n"
      ]
    }
  ],
  "metadata": {
    "kernelspec": {
      "display_name": "Python 3",
      "language": "python",
      "name": "python3"
    },
    "language_info": {
      "codemirror_mode": {
        "name": "ipython",
        "version": 3
      },
      "file_extension": ".py",
      "mimetype": "text/x-python",
      "name": "python",
      "nbconvert_exporter": "python",
      "pygments_lexer": "ipython3",
      "version": "3.12.4"
    }
  },
  "nbformat": 4,
  "nbformat_minor": 2
}
