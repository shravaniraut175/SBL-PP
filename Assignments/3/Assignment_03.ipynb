{
 "cells": [
  {
   "cell_type": "markdown",
   "metadata": {},
   "source": [
    "**Name - Shravani Sandeep Raut**\n",
    "\n",
    "SE/ 48"
   ]
  },
  {
   "cell_type": "markdown",
   "metadata": {},
   "source": [
    "1. Given the head of a linked list, rotate the list to the right by k places."
   ]
  },
  {
   "cell_type": "code",
   "execution_count": 7,
   "metadata": {},
   "outputs": [
    {
     "name": "stdout",
     "output_type": "stream",
     "text": [
      "\n",
      "Original List:\n",
      "1 -> 2 -> 3 -> 4 -> 5 -> NULL\n",
      "\n",
      "Rotated List:\n",
      "4 -> 5 -> 1 -> 2 -> 3 -> NULL\n"
     ]
    }
   ],
   "source": [
    "class Node:\n",
    "    def __init__(self, value):\n",
    "        self.data = value\n",
    "        self.next = None\n",
    "\n",
    "class LinkedList:\n",
    "    def __init__(self):\n",
    "        self.head = None\n",
    "\n",
    "    def insert(self, data):\n",
    "        newNode = Node(data)\n",
    "        if not self.head:\n",
    "            self.head = newNode\n",
    "        else:\n",
    "            temp = self.head\n",
    "            while temp.next:\n",
    "                temp = temp.next\n",
    "            temp.next = newNode\n",
    "\n",
    "    def printList(self):\n",
    "        temp = self.head\n",
    "        while temp:\n",
    "            print(temp.data, end=\" -> \")\n",
    "            temp = temp.next\n",
    "        print(\"NULL\")\n",
    "\n",
    "    def rotate(self, k):\n",
    "        if not self.head or k == 0:\n",
    "            return\n",
    "\n",
    "        # Find length and last node\n",
    "        temp, length = self.head, 1\n",
    "        while temp.next:\n",
    "            temp = temp.next\n",
    "            length += 1\n",
    "\n",
    "        # Adjust k\n",
    "        k = k % length\n",
    "        if k == 0:\n",
    "            return\n",
    "\n",
    "        # Find new tail (length - k - 1)\n",
    "        temp = self.head\n",
    "        for _ in range(length - k - 1):\n",
    "            temp = temp.next\n",
    "\n",
    "        # Rotate the list\n",
    "        new_head = temp.next\n",
    "        temp.next = None\n",
    "        temp = new_head\n",
    "        while temp.next:\n",
    "            temp = temp.next\n",
    "        temp.next = self.head\n",
    "        self.head = new_head\n",
    "\n",
    "# Taking user input\n",
    "ll = LinkedList()\n",
    "values = list(map(int, input(\"Enter linked list elements: \").split()))\n",
    "for val in values:\n",
    "    ll.insert(val)\n",
    "\n",
    "k = int(input(\"Enter k: \"))\n",
    "\n",
    "print(\"\\nOriginal List:\")\n",
    "ll.printList()\n",
    "\n",
    "ll.rotate(k)\n",
    "\n",
    "print(\"\\nRotated List:\")\n",
    "ll.printList()\n"
   ]
  }
 ],
 "metadata": {
  "kernelspec": {
   "display_name": "Python 3",
   "language": "python",
   "name": "python3"
  },
  "language_info": {
   "codemirror_mode": {
    "name": "ipython",
    "version": 3
   },
   "file_extension": ".py",
   "mimetype": "text/x-python",
   "name": "python",
   "nbconvert_exporter": "python",
   "pygments_lexer": "ipython3",
   "version": "3.12.4"
  }
 },
 "nbformat": 4,
 "nbformat_minor": 2
}
