{
 "cells": [
  {
   "cell_type": "code",
   "execution_count": 7,
   "id": "dcec28fb",
   "metadata": {},
   "outputs": [
    {
     "name": "stdout",
     "output_type": "stream",
     "text": [
      "Note: you may need to restart the kernel to use updated packages.\n"
     ]
    },
    {
     "name": "stderr",
     "output_type": "stream",
     "text": [
      "ERROR: Could not find a version that satisfies the requirement cv2 (from versions: none)\n",
      "ERROR: No matching distribution found for cv2\n"
     ]
    }
   ],
   "source": [
    "pip install cv2"
   ]
  },
  {
   "cell_type": "code",
   "execution_count": 5,
   "id": "843df2ee-71ba-47a1-9b25-33f76bd0572c",
   "metadata": {},
   "outputs": [],
   "source": [
    "import numpy as np\n",
    "import matplotlib.pyplot as plt\n",
    "import cv as cv2"
   ]
  },
  {
   "cell_type": "code",
   "execution_count": 6,
   "id": "bdd36479-8c84-4049-8f26-13c56f7a0d68",
   "metadata": {},
   "outputs": [
    {
     "ename": "AttributeError",
     "evalue": "module 'cv' has no attribute 'imread'",
     "output_type": "error",
     "traceback": [
      "\u001b[31m---------------------------------------------------------------------------\u001b[39m",
      "\u001b[31mAttributeError\u001b[39m                            Traceback (most recent call last)",
      "\u001b[36mCell\u001b[39m\u001b[36m \u001b[39m\u001b[32mIn[6]\u001b[39m\u001b[32m, line 1\u001b[39m\n\u001b[32m----> \u001b[39m\u001b[32m1\u001b[39m image = \u001b[43mcv2\u001b[49m\u001b[43m.\u001b[49m\u001b[43mimread\u001b[49m(\u001b[33m'\u001b[39m\u001b[33msample.jpg\u001b[39m\u001b[33m'\u001b[39m)\n",
      "\u001b[31mAttributeError\u001b[39m: module 'cv' has no attribute 'imread'"
     ]
    }
   ],
   "source": [
    "image = cv2.imread('sample.jpg')"
   ]
  },
  {
   "cell_type": "code",
   "execution_count": null,
   "id": "e53a7991-cbac-4661-8853-196d7d4361dc",
   "metadata": {},
   "outputs": [],
   "source": [
    "image_rgb = cv2.cvtColor(image, cv2.COLOR_BGR2RGB)"
   ]
  },
  {
   "cell_type": "code",
   "execution_count": null,
   "id": "2314c052-6dd1-4a00-b655-f80e4885c26a",
   "metadata": {},
   "outputs": [],
   "source": [
    "plt.imshow(image_rgb)\n",
    "plt.title(\"Original Image\")\n",
    "plt.axis(\"off\")\n",
    "plt.show()"
   ]
  },
  {
   "cell_type": "code",
   "execution_count": null,
   "id": "cbc5a2a3-3771-4a3e-9d0a-62792456d329",
   "metadata": {},
   "outputs": [],
   "source": [
    "image_gray = cv2.cvtColor(image, cv2.COLOR_BGR2GRAY)\n",
    "plt.imshow(image_gray, cmap='gray')\n",
    "plt.title(\"Grayscale Image\")\n",
    "plt.axis(\"off\")\n",
    "plt.show()"
   ]
  },
  {
   "cell_type": "code",
   "execution_count": null,
   "id": "4b213214-a2da-4a15-9b6b-473fa0dad292",
   "metadata": {},
   "outputs": [],
   "source": [
    "cropped_image = image_rgb[50:200, 50:200]\n",
    "plt.imshow(cropped_image)\n",
    "plt.title(\"Cropped Image\")\n",
    "plt.axis(\"off\")\n",
    "plt.show()"
   ]
  },
  {
   "cell_type": "code",
   "execution_count": null,
   "id": "ada33055-cb8d-447c-bb1a-1bdbda87163f",
   "metadata": {},
   "outputs": [],
   "source": [
    "bright_image = np.clip(image_rgb + 50, 0, 255)\n",
    "plt.imshow(bright_image.astype(np.uint8))\n",
    "plt.title(\"Brightened Image\")\n",
    "plt.axis(\"off\")\n",
    "plt.show()"
   ]
  },
  {
   "cell_type": "code",
   "execution_count": null,
   "id": "1d4ce547-4585-4456-9ae4-654ab1b2e551",
   "metadata": {},
   "outputs": [],
   "source": [
    "sobel_x = cv2.Sobel(image_gray, cv2.CV_64F, 1, 0, ksize=5)\n",
    "sobel_y = cv2.Sobel(image_gray, cv2.CV_64F, 0, 1, ksize=5)\n",
    "edge_image = np.sqrt(sobel_x**2 + sobel_y**2)\n",
    "plt.imshow(edge_image, cmap='gray')\n",
    "plt.title(\"Edge Detection\")\n",
    "plt.axis(\"off\")\n",
    "plt.show()"
   ]
  },
  {
   "cell_type": "code",
   "execution_count": null,
   "id": "f49a221d-cfab-4ee7-bc1c-ddfad16ec7e0",
   "metadata": {},
   "outputs": [],
   "source": [
    "cv2.imwrite('modified_image.jpg', cv2.cvtColor(bright_image, cv2.COLOR_RGB2BGR))"
   ]
  },
  {
   "cell_type": "code",
   "execution_count": null,
   "id": "a92bf802-b527-45ed-a0b0-0cb360105f69",
   "metadata": {},
   "outputs": [],
   "source": []
  }
 ],
 "metadata": {
  "kernelspec": {
   "display_name": "base",
   "language": "python",
   "name": "python3"
  },
  "language_info": {
   "codemirror_mode": {
    "name": "ipython",
    "version": 3
   },
   "file_extension": ".py",
   "mimetype": "text/x-python",
   "name": "python",
   "nbconvert_exporter": "python",
   "pygments_lexer": "ipython3",
   "version": "3.11.7"
  }
 },
 "nbformat": 4,
 "nbformat_minor": 5
}
