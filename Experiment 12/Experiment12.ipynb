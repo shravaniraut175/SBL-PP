{
 "cells": [
  {
   "cell_type": "markdown",
   "metadata": {},
   "source": [
    "**Name - Shravani Sandeep Raut**\n",
    "\n",
    "SE - 48"
   ]
  },
  {
   "cell_type": "code",
   "execution_count": 12,
   "metadata": {},
   "outputs": [],
   "source": [
    "import pandas as pd"
   ]
  },
  {
   "cell_type": "code",
   "execution_count": 13,
   "metadata": {},
   "outputs": [],
   "source": [
    "# Step 1: Creating a DataFrame using a dictionary\n",
    "data_dict = {\n",
    "    'Name': ['Alice', 'Bob', 'Charlie', 'David', 'Eva'],\n",
    "    'Age': [23, 30, 35, 40, 28],\n",
    "    'City': ['New York', 'Los Angeles', 'Chicago', 'Houston', 'Phoenix'],\n",
    "    'Salary': [70000, 80000, 120000, 100000, 95000]\n",
    "}\n",
    "\n",
    "df_from_dict = pd.DataFrame(data_dict)\n"
   ]
  },
  {
   "cell_type": "code",
   "execution_count": 14,
   "metadata": {},
   "outputs": [
    {
     "name": "stdout",
     "output_type": "stream",
     "text": [
      "DataFrame from Dictionary:\n",
      "      Name  Age         City  Salary\n",
      "0    Alice   23     New York   70000\n",
      "1      Bob   30  Los Angeles   80000\n",
      "2  Charlie   35      Chicago  120000\n",
      "3    David   40      Houston  100000\n",
      "4      Eva   28      Phoenix   95000\n"
     ]
    }
   ],
   "source": [
    "# Step 2: Display the DataFrame\n",
    "print(\"DataFrame from Dictionary:\")\n",
    "print(df_from_dict)"
   ]
  },
  {
   "cell_type": "code",
   "execution_count": 15,
   "metadata": {},
   "outputs": [
    {
     "name": "stdout",
     "output_type": "stream",
     "text": [
      "\n",
      "Accessing the 'Age' column:\n",
      "0    23\n",
      "1    30\n",
      "2    35\n",
      "3    40\n",
      "4    28\n",
      "Name: Age, dtype: int64\n"
     ]
    }
   ],
   "source": [
    "# Step 3: Accessing a column (e.g., 'Age')\n",
    "print(\"\\nAccessing the 'Age' column:\")\n",
    "print(df_from_dict['Age'])"
   ]
  },
  {
   "cell_type": "code",
   "execution_count": 16,
   "metadata": {},
   "outputs": [
    {
     "name": "stdout",
     "output_type": "stream",
     "text": [
      "\n",
      "Accessing 'Name' and 'Salary' columns:\n",
      "      Name  Salary\n",
      "0    Alice   70000\n",
      "1      Bob   80000\n",
      "2  Charlie  120000\n",
      "3    David  100000\n",
      "4      Eva   95000\n"
     ]
    }
   ],
   "source": [
    "# Step 4: Accessing multiple columns (e.g., 'Name' and 'Salary')\n",
    "print(\"\\nAccessing 'Name' and 'Salary' columns:\")\n",
    "print(df_from_dict[['Name', 'Salary']])"
   ]
  },
  {
   "cell_type": "code",
   "execution_count": 17,
   "metadata": {},
   "outputs": [
    {
     "name": "stdout",
     "output_type": "stream",
     "text": [
      "\n",
      "Filtering rows where Age > 30:\n",
      "      Name  Age     City  Salary\n",
      "2  Charlie   35  Chicago  120000\n",
      "3    David   40  Houston  100000\n"
     ]
    }
   ],
   "source": [
    "# Step 5: Filtering rows based on a condition (e.g., Age > 30)\n",
    "print(\"\\nFiltering rows where Age > 30:\")\n",
    "filtered_df = df_from_dict[df_from_dict['Age'] > 30]\n",
    "print(filtered_df)"
   ]
  },
  {
   "cell_type": "code",
   "execution_count": 18,
   "metadata": {},
   "outputs": [
    {
     "name": "stdout",
     "output_type": "stream",
     "text": [
      "\n",
      "DataFrame with a new 'Tax' column:\n",
      "      Name  Age         City  Salary      Tax\n",
      "0    Alice   23     New York   70000   7000.0\n",
      "1      Bob   30  Los Angeles   80000   8000.0\n",
      "2  Charlie   35      Chicago  120000  12000.0\n",
      "3    David   40      Houston  100000  10000.0\n",
      "4      Eva   28      Phoenix   95000   9500.0\n"
     ]
    }
   ],
   "source": [
    "# Step 6: Adding a new column (e.g., 'Tax' calculated as 10% of Salary)\n",
    "df_from_dict['Tax'] = df_from_dict['Salary'] * 0.1\n",
    "print(\"\\nDataFrame with a new 'Tax' column:\")\n",
    "print(df_from_dict)"
   ]
  },
  {
   "cell_type": "code",
   "execution_count": 19,
   "metadata": {},
   "outputs": [
    {
     "name": "stdout",
     "output_type": "stream",
     "text": [
      "\n",
      "DataFrame with 'Salary' increased by 5%:\n",
      "      Name  Age         City    Salary      Tax\n",
      "0    Alice   23     New York   73500.0   7000.0\n",
      "1      Bob   30  Los Angeles   84000.0   8000.0\n",
      "2  Charlie   35      Chicago  126000.0  12000.0\n",
      "3    David   40      Houston  105000.0  10000.0\n",
      "4      Eva   28      Phoenix   99750.0   9500.0\n"
     ]
    }
   ],
   "source": [
    "# Step 7: Applying a function to a column (e.g., 'Salary' increase by 5%)\n",
    "df_from_dict['Salary'] = df_from_dict['Salary'] * 1.05\n",
    "print(\"\\nDataFrame with 'Salary' increased by 5%:\")\n",
    "print(df_from_dict)"
   ]
  },
  {
   "cell_type": "code",
   "execution_count": 20,
   "metadata": {},
   "outputs": [
    {
     "name": "stdout",
     "output_type": "stream",
     "text": [
      "\n",
      "DataFrame after dropping the 'Tax' column:\n",
      "      Name  Age         City    Salary\n",
      "0    Alice   23     New York   73500.0\n",
      "1      Bob   30  Los Angeles   84000.0\n",
      "2  Charlie   35      Chicago  126000.0\n",
      "3    David   40      Houston  105000.0\n",
      "4      Eva   28      Phoenix   99750.0\n"
     ]
    }
   ],
   "source": [
    "# Step 8: Dropping a column (e.g., 'Tax')\n",
    "df_from_dict = df_from_dict.drop('Tax', axis=1)\n",
    "print(\"\\nDataFrame after dropping the 'Tax' column:\")\n",
    "print(df_from_dict)\n"
   ]
  },
  {
   "cell_type": "code",
   "execution_count": 21,
   "metadata": {},
   "outputs": [
    {
     "name": "stdout",
     "output_type": "stream",
     "text": [
      "\n",
      "DataFrame with missing values:\n",
      "  Product  Price\n",
      "0   Apple    1.2\n",
      "1  Banana    NaN\n",
      "2  Cherry    2.5\n",
      "3    Date    NaN\n"
     ]
    }
   ],
   "source": [
    "# Step 9: Handling missing data (NaN values)\n",
    "df_with_nan = pd.DataFrame({\n",
    "    'Product': ['Apple', 'Banana', 'Cherry', 'Date'],\n",
    "    'Price': [1.2, None, 2.5, None]\n",
    "})\n",
    "print(\"\\nDataFrame with missing values:\")\n",
    "print(df_with_nan)"
   ]
  }
 ],
 "metadata": {
  "kernelspec": {
   "display_name": "Python 3",
   "language": "python",
   "name": "python3"
  },
  "language_info": {
   "codemirror_mode": {
    "name": "ipython",
    "version": 3
   },
   "file_extension": ".py",
   "mimetype": "text/x-python",
   "name": "python",
   "nbconvert_exporter": "python",
   "pygments_lexer": "ipython3",
   "version": "3.12.4"
  }
 },
 "nbformat": 4,
 "nbformat_minor": 2
}
