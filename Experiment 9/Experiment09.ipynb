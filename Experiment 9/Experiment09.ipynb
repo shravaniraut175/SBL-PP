{
  "metadata": {
    "kernelspec": {
      "name": "python",
      "display_name": "Python (Pyodide)",
      "language": "python"
    },
    "language_info": {
      "codemirror_mode": {
        "name": "python",
        "version": 3
      },
      "file_extension": ".py",
      "mimetype": "text/x-python",
      "name": "python",
      "nbconvert_exporter": "python",
      "pygments_lexer": "ipython3",
      "version": "3.8"
    }
  },
  "nbformat_minor": 5,
  "nbformat": 4,
  "cells": [
    {
      "id": "72810f20-3eec-4caf-b40e-64455cb7afde",
      "cell_type": "markdown",
      "source": "**Name - Shravani Sandeep Raut**\n\nSE - 48",
      "metadata": {}
    },
    {
      "id": "08818869-d3cb-4f58-8c58-023510daf23e",
      "cell_type": "code",
      "source": "import numpy as np",
      "metadata": {
        "trusted": true
      },
      "outputs": [],
      "execution_count": 1
    },
    {
      "id": "ae80a6f9-f710-4e25-ab7e-fda936174151",
      "cell_type": "code",
      "source": "# 1. Array Creation Techniques\nprint(\"1. Array Creation Techniques\")",
      "metadata": {
        "trusted": true
      },
      "outputs": [
        {
          "name": "stdout",
          "output_type": "stream",
          "text": "1. Array Creation Techniques\n"
        }
      ],
      "execution_count": 2
    },
    {
      "id": "401e041e-d425-40ff-931f-5733423dd02c",
      "cell_type": "code",
      "source": "# a. Creating an array from a list\narray_from_list = np.array([1, 2, 3, 4, 5])\narray_from_list",
      "metadata": {
        "trusted": true
      },
      "outputs": [
        {
          "execution_count": 3,
          "output_type": "execute_result",
          "data": {
            "text/plain": "array([1, 2, 3, 4, 5])"
          },
          "metadata": {}
        }
      ],
      "execution_count": 3
    },
    {
      "id": "de5938a3-af81-4f52-96ca-28861ca7db8d",
      "cell_type": "code",
      "source": "# b. Using arange()\narray_arange = np.arange(0, 10, 2)\narray_arange",
      "metadata": {
        "trusted": true
      },
      "outputs": [
        {
          "execution_count": 4,
          "output_type": "execute_result",
          "data": {
            "text/plain": "array([0, 2, 4, 6, 8])"
          },
          "metadata": {}
        }
      ],
      "execution_count": 4
    },
    {
      "id": "f8425543-b669-41f2-b5a0-281d35dfe1b2",
      "cell_type": "code",
      "source": "# c. Using linspace()\narray_linspace = np.linspace(0, 10, 5)  # Divides 0 to 10 into 5 points\narray_linspace",
      "metadata": {
        "trusted": true
      },
      "outputs": [
        {
          "execution_count": 5,
          "output_type": "execute_result",
          "data": {
            "text/plain": "array([ 0. ,  2.5,  5. ,  7.5, 10. ])"
          },
          "metadata": {}
        }
      ],
      "execution_count": 5
    },
    {
      "id": "a948ae7a-ab7c-4080-abab-cfd68667f1db",
      "cell_type": "code",
      "source": "# d. Using zeros()\narray_zeros = np.zeros((3, 3))\narray_zeros",
      "metadata": {
        "trusted": true
      },
      "outputs": [
        {
          "execution_count": 6,
          "output_type": "execute_result",
          "data": {
            "text/plain": "array([[0., 0., 0.],\n       [0., 0., 0.],\n       [0., 0., 0.]])"
          },
          "metadata": {}
        }
      ],
      "execution_count": 6
    },
    {
      "id": "f5d7efde-4e33-44ef-bb58-55394f8d89bb",
      "cell_type": "code",
      "source": "# e. Using ones()\narray_ones = np.ones((2, 2))\narray_ones",
      "metadata": {
        "trusted": true
      },
      "outputs": [
        {
          "execution_count": 7,
          "output_type": "execute_result",
          "data": {
            "text/plain": "array([[1., 1.],\n       [1., 1.]])"
          },
          "metadata": {}
        }
      ],
      "execution_count": 7
    },
    {
      "id": "0ac995a0-3fbc-468f-b061-f1286d4e61ed",
      "cell_type": "code",
      "source": "# f. Using eye() for identity matrix\narray_eye = np.eye(3)\narray_eye",
      "metadata": {
        "trusted": true
      },
      "outputs": [
        {
          "execution_count": 8,
          "output_type": "execute_result",
          "data": {
            "text/plain": "array([[1., 0., 0.],\n       [0., 1., 0.],\n       [0., 0., 1.]])"
          },
          "metadata": {}
        }
      ],
      "execution_count": 8
    },
    {
      "id": "7e389e3c-0dde-488a-bec7-16f7735eba24",
      "cell_type": "code",
      "source": "# g. Using random() for random values\narray_random = np.random.random((3, 3))\narray_random",
      "metadata": {
        "trusted": true
      },
      "outputs": [
        {
          "execution_count": 9,
          "output_type": "execute_result",
          "data": {
            "text/plain": "array([[0.53605402, 0.84776023, 0.94323659],\n       [0.13495194, 0.26961554, 0.94255851],\n       [0.00108042, 0.14368541, 0.79923733]])"
          },
          "metadata": {}
        }
      ],
      "execution_count": 9
    },
    {
      "id": "d712a3c4-0ebe-4772-b9d0-9519de9ba0e8",
      "cell_type": "code",
      "source": "# 2. Different NumPy Methods\nprint(\"\\n2. NumPy Methods\")",
      "metadata": {
        "trusted": true
      },
      "outputs": [
        {
          "name": "stdout",
          "output_type": "stream",
          "text": "\n2. NumPy Methods\n"
        }
      ],
      "execution_count": 10
    },
    {
      "id": "cf9acde0-33ad-4e27-9f90-c8e642c0b8c1",
      "cell_type": "code",
      "source": "# a. Reshaping an array\nreshaped_array = np.arange(1, 10).reshape(3, 3)\nreshaped_array",
      "metadata": {
        "trusted": true
      },
      "outputs": [
        {
          "execution_count": 11,
          "output_type": "execute_result",
          "data": {
            "text/plain": "array([[1, 2, 3],\n       [4, 5, 6],\n       [7, 8, 9]])"
          },
          "metadata": {}
        }
      ],
      "execution_count": 11
    },
    {
      "id": "4f744831-6d71-4d3e-9385-2359e9675dcb",
      "cell_type": "code",
      "source": "# b. Transposing an array\ntransposed_array = reshaped_array.T\ntransposed_array",
      "metadata": {
        "trusted": true
      },
      "outputs": [
        {
          "execution_count": 12,
          "output_type": "execute_result",
          "data": {
            "text/plain": "array([[1, 4, 7],\n       [2, 5, 8],\n       [3, 6, 9]])"
          },
          "metadata": {}
        }
      ],
      "execution_count": 12
    },
    {
      "id": "779482f6-90bd-4713-ba4a-89ab38ef17db",
      "cell_type": "code",
      "source": "# c. Mathematical operations\narray_math = np.array([1, 2, 3])\narray_math + 2\narray_math * 3\nnp.sqrt(array_math)",
      "metadata": {
        "trusted": true
      },
      "outputs": [
        {
          "execution_count": 13,
          "output_type": "execute_result",
          "data": {
            "text/plain": "array([1.        , 1.41421356, 1.73205081])"
          },
          "metadata": {}
        }
      ],
      "execution_count": 13
    },
    {
      "id": "80b44c29-09d8-4526-9e92-c934db623243",
      "cell_type": "code",
      "source": "# d. Aggregation methods\nnp.sum(array_math)\nnp.mean(array_math)\nnp.max(array_math)\nnp.min(array_math)",
      "metadata": {
        "trusted": true
      },
      "outputs": [
        {
          "execution_count": 14,
          "output_type": "execute_result",
          "data": {
            "text/plain": "np.int32(1)"
          },
          "metadata": {}
        }
      ],
      "execution_count": 14
    },
    {
      "id": "92de04bd-2c6a-45e7-86a0-e8c42eab7424",
      "cell_type": "code",
      "source": "# e. Concatenation of arrays\narray_a = np.array([1, 2, 3])\narray_b = np.array([4, 5, 6])\nconcat_array = np.concatenate((array_a, array_b))\nconcat_array",
      "metadata": {
        "trusted": true
      },
      "outputs": [
        {
          "execution_count": 15,
          "output_type": "execute_result",
          "data": {
            "text/plain": "array([1, 2, 3, 4, 5, 6])"
          },
          "metadata": {}
        }
      ],
      "execution_count": 15
    },
    {
      "id": "806e4f8f-2989-4d5e-8378-d00b2e3216bb",
      "cell_type": "code",
      "source": "# f. Sorting an array\nunsorted_array = np.array([3, 1, 4, 2])\nsorted_array = np.sort(unsorted_array)\nsorted_array",
      "metadata": {
        "trusted": true
      },
      "outputs": [
        {
          "execution_count": 16,
          "output_type": "execute_result",
          "data": {
            "text/plain": "array([1, 2, 3, 4])"
          },
          "metadata": {}
        }
      ],
      "execution_count": 16
    },
    {
      "id": "bbfa9417-1e34-4849-bc9c-c131ef89cd09",
      "cell_type": "code",
      "source": "# g. Indexing and Slicing\nindexed_value = array_math[1]  # Indexing\nindexed_value\nsliced_array = array_math[1:3]  # Slicing\nsliced_array",
      "metadata": {
        "trusted": true
      },
      "outputs": [
        {
          "execution_count": 17,
          "output_type": "execute_result",
          "data": {
            "text/plain": "array([2, 3])"
          },
          "metadata": {}
        }
      ],
      "execution_count": 17
    },
    {
      "id": "10a999e8-93f1-44c0-96ec-ed51a2e27230",
      "cell_type": "code",
      "source": "# h. Boolean Masking\nboolean_mask = array_math > 2\nboolean_mask\narray_math[boolean_mask]",
      "metadata": {
        "trusted": true
      },
      "outputs": [
        {
          "execution_count": 18,
          "output_type": "execute_result",
          "data": {
            "text/plain": "array([3])"
          },
          "metadata": {}
        }
      ],
      "execution_count": 18
    }
  ]
}