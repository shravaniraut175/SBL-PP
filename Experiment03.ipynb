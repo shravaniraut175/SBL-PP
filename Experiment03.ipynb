{
  "metadata": {
    "kernelspec": {
      "name": "python",
      "display_name": "Python (Pyodide)",
      "language": "python"
    },
    "language_info": {
      "codemirror_mode": {
        "name": "python",
        "version": 3
      },
      "file_extension": ".py",
      "mimetype": "text/x-python",
      "name": "python",
      "nbconvert_exporter": "python",
      "pygments_lexer": "ipython3",
      "version": "3.8"
    }
  },
  "nbformat_minor": 5,
  "nbformat": 4,
  "cells": [
    {
      "id": "bb90493b-3f8d-4413-906b-b1bd0d14873e",
      "cell_type": "markdown",
      "source": "Name - Shravani Sandeep Raut\nSE / 48",
      "metadata": {}
    },
    {
      "id": "56cf9a07-cff9-4213-90ef-e70d2e4f672c",
      "cell_type": "markdown",
      "source": "file.txt\nThis is a sample file.\nIt contains multiple lines.\nEach line has words and characters.\nPython is great for text processing!",
      "metadata": {}
    },
    {
      "id": "1368f5b1-4977-49d9-af22-a5e568f470dd",
      "cell_type": "code",
      "source": "if __name__ == '__main__':\n    with open ('file.txt', 'r') as file:\n        lines = file.readlines ()\n        numberOfLines = len (lines)\n        numberOfWords = sum (len (line.split()) for line in lines)\n        numberOfCharacters = sum(len(line)for line in lines)\n        file.close()\n\n    print(f\"Lines: {numberOfLines}\")\n    print(f\"Words: {numberOfWords}\")\n    print(f\"Characters: {numberOfCharacters}\")",
      "metadata": {
        "trusted": true
      },
      "outputs": [
        {
          "name": "stdout",
          "output_type": "stream",
          "text": "Lines: 4\nWords: 21\nCharacters: 123\n"
        }
      ],
      "execution_count": 1
    },
    {
      "id": "d142f825-d669-4e6f-86d9-e089cb68fae5",
      "cell_type": "code",
      "source": "",
      "metadata": {
        "trusted": true,
        "jupyter": {
          "source_hidden": true
        }
      },
      "outputs": [],
      "execution_count": null
    }
  ]
}