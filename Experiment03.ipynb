{
 "cells": [
  {
   "cell_type": "markdown",
   "metadata": {},
   "source": [
    "Name - Shravani Sandeep Raut\n",
    "SE / 48"
   ]
  },
  {
   "cell_type": "markdown",
   "metadata": {},
   "source": [
    "file.txt\n",
    "This is a sample file.\n",
    "It contains multiple lines.\n",
    "Each line has words and characters.\n",
    "Python is great for text processing!"
   ]
  },
  {
   "cell_type": "code",
   "execution_count": 3,
   "metadata": {},
   "outputs": [
    {
     "name": "stdout",
     "output_type": "stream",
     "text": [
      "Lines: 4\n",
      "Words: 21\n",
      "Characters: 123\n"
     ]
    }
   ],
   "source": [
    "if __name__ == '__main__':\n",
    "    path = r'C:\\Users\\admin\\Desktop\\SE - 48\\Python\\3\\file.txt'\n",
    "    with open (path,'r')as file:\n",
    "        lines = file.readlines ()\n",
    "        numberOfLines = len (lines)\n",
    "        numberOfWords = sum (len (line.split()) for line in lines)\n",
    "        numberOfCharacters = sum(len(line)for line in lines)\n",
    "        file.close()\n",
    "\n",
    "    print(f\"Lines: {numberOfLines}\")\n",
    "    print(f\"Words: {numberOfWords}\")\n",
    "    print(f\"Characters: {numberOfCharacters}\")"
   ]
  }
 ],
 "metadata": {
  "kernelspec": {
   "display_name": "Python 3",
   "language": "python",
   "name": "python3"
  },
  "language_info": {
   "codemirror_mode": {
    "name": "ipython",
    "version": 3
   },
   "file_extension": ".py",
   "mimetype": "text/x-python",
   "name": "python",
   "nbconvert_exporter": "python",
   "pygments_lexer": "ipython3",
   "version": "3.12.0"
  }
 },
 "nbformat": 4,
 "nbformat_minor": 2
}
